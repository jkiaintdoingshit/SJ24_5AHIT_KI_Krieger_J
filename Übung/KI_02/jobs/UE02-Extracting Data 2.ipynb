{
 "cells": [
  {
   "cell_type": "code",
   "execution_count": 19,
   "id": "dc374104-ad2d-47b0-8a8d-7f1db9489872",
   "metadata": {},
   "outputs": [],
   "source": [
    "import re\n",
    "import csv\n",
    "from bs4 import BeautifulSoup"
   ]
  },
  {
   "cell_type": "code",
   "execution_count": 20,
   "id": "58b9a50f",
   "metadata": {},
   "outputs": [],
   "source": [
    "import requests"
   ]
  },
  {
   "cell_type": "code",
   "execution_count": 21,
   "id": "afd13b0d-a959-40a3-988a-f9f9f9e47575",
   "metadata": {},
   "outputs": [],
   "source": [
    "file_path = 'HTL Krems.html'"
   ]
  },
  {
   "cell_type": "code",
   "execution_count": 22,
   "id": "4567636e-bda8-4f0e-aa62-d49eaf573ae5",
   "metadata": {},
   "outputs": [],
   "source": [
    "r = requests.get('https://www.htlkrems.ac.at/')\n"
   ]
  },
  {
   "cell_type": "code",
   "execution_count": 23,
   "id": "6ba36eb2-00c7-465f-a967-c8781efe345f",
   "metadata": {},
   "outputs": [],
   "source": [
    "\n",
    "soup = BeautifulSoup(r.content, 'html.parser')"
   ]
  },
  {
   "cell_type": "code",
   "execution_count": 24,
   "id": "b0113aad-efac-4313-b31f-cf27e64849be",
   "metadata": {},
   "outputs": [],
   "source": [
    "emails = re.findall(r'[a-zA-Z0-9._%+-]+@[a-zA-Z0-9.-]+\\.[a-zA-Z]{2,}', soup.text)"
   ]
  },
  {
   "cell_type": "code",
   "execution_count": 25,
   "id": "796685ba-61d2-41fd-ae7a-9ffe416bbb68",
   "metadata": {},
   "outputs": [],
   "source": [
    "with open('emails.csv', 'w', newline='') as csvfile:\n",
    "    writer = csv.writer(csvfile)\n",
    "    writer.writerow([\"Email\"])  # Spaltenüberschrift\n",
    "    for email in set(emails):  # Vermeidung von Duplikaten durch set()\n",
    "        writer.writerow([email])\n"
   ]
  },
  {
   "cell_type": "code",
   "execution_count": 26,
   "id": "bd2579ea-b2fc-46c9-a436-d43950f1e358",
   "metadata": {},
   "outputs": [],
   "source": [
    "file_path_jobs = 'JOBS – HTL Krems.html'"
   ]
  },
  {
   "cell_type": "code",
   "execution_count": 27,
   "id": "9bf2cca2",
   "metadata": {},
   "outputs": [],
   "source": [
    "r = requests.get('https://www.htlkrems.ac.at/jobs/')\n",
    "\n",
    "content_jobs = BeautifulSoup(r.content, 'html.parser')"
   ]
  },
  {
   "cell_type": "code",
   "execution_count": 28,
   "id": "620e105b-7c6c-4dc8-b588-6c12d9c70cb2",
   "metadata": {},
   "outputs": [],
   "source": [
    "keywords = ['Developer', 'Entwickler', 'Entwicklung', 'Softwareentwickler', 'Programmierer']\n"
   ]
  },
  {
   "cell_type": "code",
   "execution_count": 32,
   "id": "dc86ffe6",
   "metadata": {},
   "outputs": [],
   "source": [
    "table = content_jobs.find('tr')"
   ]
  },
  {
   "cell_type": "code",
   "execution_count": null,
   "id": "5b8d2152",
   "metadata": {},
   "outputs": [],
   "source": []
  },
  {
   "cell_type": "code",
   "execution_count": 29,
   "id": "d7ad40dc-500f-4eb8-8d84-fcfb4d64e7c4",
   "metadata": {},
   "outputs": [],
   "source": [
    "job_entries = content_jobs.find_all('a')"
   ]
  },
  {
   "cell_type": "code",
   "execution_count": 30,
   "id": "3eb164db-812f-48b4-bea2-c64a514749be",
   "metadata": {},
   "outputs": [],
   "source": [
    "relevant_jobs = []\n",
    "for entry in job_entries:\n",
    "    text = entry.get_text()\n",
    "    if any(keyword in text for keyword in keywords):\n",
    "        relevant_jobs.append(text)"
   ]
  },
  {
   "cell_type": "code",
   "execution_count": 31,
   "id": "ec73a8e3-a94f-4dbe-ba81-71f392efe429",
   "metadata": {},
   "outputs": [],
   "source": [
    "with open('relevant_jobs.csv', 'w', newline='', encoding='utf-8') as csvfile:\n",
    "    writer = csv.writer(csvfile)\n",
    "    writer.writerow(['Jobangebot'])\n",
    "    for job in relevant_jobs:\n",
    "        writer.writerow([job])"
   ]
  },
  {
   "cell_type": "code",
   "execution_count": null,
   "id": "56390de8-4a7c-4d51-b6bd-69510f4151ba",
   "metadata": {},
   "outputs": [],
   "source": []
  }
 ],
 "metadata": {
  "kernelspec": {
   "display_name": "base",
   "language": "python",
   "name": "python3"
  },
  "language_info": {
   "codemirror_mode": {
    "name": "ipython",
    "version": 3
   },
   "file_extension": ".py",
   "mimetype": "text/x-python",
   "name": "python",
   "nbconvert_exporter": "python",
   "pygments_lexer": "ipython3",
   "version": "3.11.4"
  }
 },
 "nbformat": 4,
 "nbformat_minor": 5
}
