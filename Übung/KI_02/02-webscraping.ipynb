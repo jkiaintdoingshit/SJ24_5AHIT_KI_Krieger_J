{
 "cells": [
  {
   "cell_type": "code",
   "execution_count": 1,
   "id": "328e6881",
   "metadata": {
    "is_executing": true
   },
   "outputs": [],
   "source": [
    "import spacy\n",
    "import PyPDF2 as pypdf"
   ]
  },
  {
   "cell_type": "code",
   "execution_count": 2,
   "id": "aa6fd5a2",
   "metadata": {
    "is_executing": true
   },
   "outputs": [
    {
     "data": {
      "text/plain": [
       "<spacy.lang.en.English at 0x24eb28921d0>"
      ]
     },
     "execution_count": 2,
     "metadata": {},
     "output_type": "execute_result"
    }
   ],
   "source": [
    "nlp = spacy.load(\"en_core_web_sm\")\n",
    "nlp"
   ]
  },
  {
   "cell_type": "code",
   "execution_count": 3,
   "id": "d4082a58",
   "metadata": {
    "is_executing": true
   },
   "outputs": [
    {
     "data": {
      "text/plain": [
       "<spacy.lang.de.German at 0x24eb4666810>"
      ]
     },
     "execution_count": 3,
     "metadata": {},
     "output_type": "execute_result"
    }
   ],
   "source": [
    "nlp2 = spacy.load(\"de_core_news_sm\")\n",
    "nlp2"
   ]
  },
  {
   "cell_type": "code",
   "execution_count": 5,
   "id": "7411ebe5",
   "metadata": {
    "is_executing": true
   },
   "outputs": [
    {
     "ename": "SyntaxError",
     "evalue": "invalid syntax (3518348013.py, line 1)",
     "output_type": "error",
     "traceback": [
      "\u001b[1;36m  Cell \u001b[1;32mIn[5], line 1\u001b[1;36m\u001b[0m\n\u001b[1;33m    geht ar = requests.get('https://www.htlkrems.ac.at/')\u001b[0m\n\u001b[1;37m         ^\u001b[0m\n\u001b[1;31mSyntaxError\u001b[0m\u001b[1;31m:\u001b[0m invalid syntax\n"
     ]
    }
   ],
   "source": [
    "reader = pypdf.PdfReader(\"./schachnovelletext13.pdf\")\n",
    "page = reader.pages[0] \n",
    "print(page)"
   ]
  },
  {
   "cell_type": "code",
   "execution_count": null,
   "id": "01e5e39e",
   "metadata": {
    "is_executing": true
   },
   "outputs": [],
   "source": [
    "print(reader.metadata.author)\n",
    "print(reader.metadata.producer)\n",
    "print(reader.metadata.title)"
   ]
  },
  {
   "cell_type": "code",
   "execution_count": null,
   "id": "4a8f2cc7",
   "metadata": {
    "is_executing": true
   },
   "outputs": [],
   "source": [
    "pages = reader.pages[0]"
   ]
  },
  {
   "cell_type": "code",
   "execution_count": null,
   "id": "786ae860",
   "metadata": {
    "is_executing": true
   },
   "outputs": [],
   "source": [
    "pages.extract_text()"
   ]
  },
  {
   "cell_type": "code",
   "execution_count": null,
   "id": "7bf1f0e4",
   "metadata": {
    "is_executing": true
   },
   "outputs": [],
   "source": [
    "for page in reader.pages:\n",
    "    print(page.extract_text())"
   ]
  },
  {
   "cell_type": "code",
   "execution_count": null,
   "id": "a35b250c",
   "metadata": {
    "is_executing": true
   },
   "outputs": [],
   "source": [
    "pages = []\n",
    "for page in reader.pages:\n",
    "    pages.append(page.extract_text())\n",
    "    \n",
    "#for page in pages:\n",
    "#    print(page.extract_text())\n",
    "    \n",
    "print(*pages, sep='\\n')"
   ]
  },
  {
   "cell_type": "code",
   "execution_count": null,
   "id": "bc64c049b7c1a7c",
   "metadata": {
    "collapsed": false,
    "is_executing": true
   },
   "outputs": [],
   "source": [
    "import urllib.request as urllib2"
   ]
  },
  {
   "cell_type": "code",
   "execution_count": 8,
   "id": "9a13e993b1366a38",
   "metadata": {
    "collapsed": false,
    "is_executing": true
   },
   "outputs": [],
   "source": [
    "import requests\n",
    "from bs4 import BeautifulSoup "
   ]
  },
  {
   "cell_type": "code",
   "execution_count": 9,
   "id": "f214864dd9253272",
   "metadata": {
    "collapsed": false,
    "is_executing": true
   },
   "outputs": [
    {
     "name": "stdout",
     "output_type": "stream",
     "text": [
      "124\n",
      "https://www.htlkrems.ac.at/eduflow/\n",
      "https://www.htlkrems.ac.at/edu-pay/\n",
      "https://asopo.webuntis.com/WebUntis/?school=htlkrems#/basic/login\n",
      "https://asopo.webuntis.com/WebUntis/?school=htlkrems#/basic/officehours\n",
      "News\n",
      "Termine\n",
      "INTERN\n",
      "https://www.facebook.com/HTLKremsDonau/\n",
      "https://www.youtube.com/channel/UCSbXgFgWx76PXsc0LTomgyw/videos?view_as=subscriber\n",
      "https://linkedin.com/school/htl-krems\n",
      "https://www.instagram.com/htlkrems/\n",
      "https://www.htlkrems.ac.at/\n",
      "#\n",
      "https://www.htlkrems.ac.at/ueber-uns/\n",
      "https://www.htlkrems.ac.at/news/\n",
      "https://www.htlkrems.ac.at/leitung/\n",
      "https://asopo.webuntis.com/WebUntis/?school=htlkrems#/basic/officehours\n",
      "https://www.htlkrems.ac.at/leitbild/\n",
      "https://www.htlkrems.ac.at/schulpartner-vereine/\n",
      "https://www.htlkrems.ac.at/szweizingenium/\n",
      "https://www.facebook.com/HTLKremsDonau/\n",
      "https://www.instagram.com/htlkrems/\n",
      "https://www.htlkrems.ac.at/kontakt/\n",
      "#\n",
      "https://www.htlkrems.ac.at/bau/\n",
      "https://www.htlkrems.ac.at/hoehere-abteilung/\n",
      "https://www.htlkrems.ac.at/hochbau/\n",
      "https://www.htlkrems.ac.at/tiefbau/\n",
      "https://www.htlkrems.ac.at/holzbau/\n",
      "https://www.htlkrems.ac.at/bautechnik-kolleg/\n",
      "https://www.htlkrems.ac.at/fachschule/\n",
      "https://www.htlkrems.ac.at/berufe-berechtigungen/\n",
      "https://www.htlkrems.ac.at/baupraxis-2/\n",
      "https://www.htlkrems.ac.at/category/bautechnik/\n",
      "#\n",
      "https://www.htlkrems.ac.at/it/\n",
      "https://www.htlkrems.ac.at/systemtechnik/\n",
      "https://www.htlkrems.ac.at/medientechnik/\n",
      "https://www.htlkrems.ac.at/computerpraktikum/\n",
      "https://www.htlkrems.ac.at/berufsaussichten/\n",
      "https://www.htlkrems.ac.at/category/it/\n",
      "https://www.htlkrems.ac.at/medit\n",
      "#\n",
      "https://www.htlkrems.ac.at/anmeldung/\n",
      "https://www.htlkrems.ac.at/intern/\n",
      "https://www.htlkrems.ac.at/termine/\n",
      "https://www.htlkrems.ac.at/downloads/\n",
      "https://www.htlkrems.ac.at/beratung/\n",
      "https://www.htlkrems.ac.at/bildungsberatung/\n",
      "https://www.htlkrems.ac.at/ilb/\n",
      "https://www.htlkrems.ac.at/schuelerberatung/\n",
      "https://www.htlkrems.ac.at/jobs/\n",
      "https://www.htlkrems.ac.at/praktika/\n",
      "https://asopo.webuntis.com/WebUntis/monitor?school=htlkrems&monitorType=oh\n",
      "#\n",
      "https://www.htlkrems.ac.at/wp-content/uploads/2024/08/SIM_2024_PlakatA4.pdf\n",
      "https://www.htlkrems.ac.at/wp-content/uploads/2024/08/SIM_2024_PlakatA4.pdf\n",
      "https://www.htlkrems.ac.at/wp-content/uploads/2024/08/SIM_2024_PlakatA4.pdf\n",
      "https://www.htlkrems.ac.at/news/\n",
      "https://www.htlkrems.ac.at/news/\n",
      "https://www.htlkrems.ac.at/wp-content/uploads/2024/08/SIM_2024_PlakatA4.pdf\n",
      "https://www.htlkrems.ac.at/wp-content/uploads/2024/08/SIM_2024_PlakatA4.pdf\n",
      "https://www.htlkrems.ac.at/wp-content/uploads/2024/08/SIM_2024_PlakatA4.pdf\n",
      "https://www.htlkrems.ac.at/news/\n",
      "https://www.htlkrems.ac.at/news/\n",
      "https://www.htlkrems.ac.at/wp-content/uploads/2024/08/SIM_2024_PlakatA4.pdf\n",
      "https://www.htlkrems.ac.at/wp-content/uploads/2024/08/SIM_2024_PlakatA4.pdf\n",
      "https://www.htlkrems.ac.at/wp-content/uploads/2024/08/SIM_2024_PlakatA4.pdf\n",
      "https://www.htlkrems.ac.at/news/\n",
      "https://www.htlkrems.ac.at/news/\n",
      "https://www.htlkrems.ac.at/wp-content/uploads/2024/08/SIM_2024_PlakatA4.pdf\n",
      "https://www.htlkrems.ac.at/wp-content/uploads/2024/08/SIM_2024_PlakatA4.pdf\n",
      "https://www.htlkrems.ac.at/wp-content/uploads/2024/08/SIM_2024_PlakatA4.pdf\n",
      "https://www.htlkrems.ac.at/news/\n",
      "https://www.htlkrems.ac.at/news/\n",
      "https://www.htlkrems.ac.at/wp-content/uploads/2024/08/SIM_2024_PlakatA4.pdf\n",
      "https://www.htlkrems.ac.at/wp-content/uploads/2024/08/SIM_2024_PlakatA4.pdf\n",
      "https://www.htlkrems.ac.at/wp-content/uploads/2024/08/SIM_2024_PlakatA4.pdf\n",
      "https://www.htlkrems.ac.at/news/\n",
      "https://www.htlkrems.ac.at/news/\n",
      "https://www.htlkrems.ac.at/wp-content/uploads/2024/08/SIM_2024_PlakatA4.pdf\n",
      "https://www.htlkrems.ac.at/wp-content/uploads/2024/08/SIM_2024_PlakatA4.pdf\n",
      "https://www.htlkrems.ac.at/wp-content/uploads/2024/08/SIM_2024_PlakatA4.pdf\n",
      "https://www.htlkrems.ac.at/news/\n",
      "https://www.htlkrems.ac.at/news/\n",
      "#\n",
      "/bautechnik\n",
      "/hoehere-abteilung/\n",
      "/fachschule/\n",
      "/bautechnik-kolleg/\n",
      "/it\n",
      "/it\n",
      "/it\n",
      "/it\n",
      "/it\n",
      "/medit\n",
      "/medit\n",
      "/medit\n",
      "https://www.htlkrems.ac.at/infobase/\n",
      "https://www.htlkrems.ac.at/infos-schulstart-1-klassen-2024-25\n",
      "https://htlconnect.at\n",
      "https://online.flippingbook.com/view/217858/\n",
      "https://online.flippingbook.com/view/1016163/\n",
      "https://online.flippingbook.com/view/131548405/1\n",
      "https://online.flippingbook.com/view/776828128/\n",
      "https://online.flippingbook.com/view/362202545/\n",
      "https://online.flippingbook.com/view/362202545/\n",
      "https://www.htlkrems.ac.at/wp-content/uploads/2022/01/Homepage_Text_HTL.pdf\n",
      "https://www.erasmusplus-jugend.de/\n",
      "https://www.loxone.com/dede/\n",
      "https://htlconnect.at\n",
      "https://ingenium.co.at\n",
      "https://www.aufbaustudium.at\n",
      "/schulpartner-vereine\n",
      "https://www.facebook.com/HTLKremsDonau/\n",
      "https://www.instagram.com/htlkrems/\n",
      "https://www.youtube.com/channel/UCSbXgFgWx76PXsc0LTomgyw/videos?view_as=subscriber\n",
      "https://itkaufmann.at\n",
      "https://www.htlkrems.ac.at/datenschutz/\n",
      "https://www.htlkrems.ac.at/impressum/\n",
      "https://www.htlkrems.ac.at/kontakt/\n"
     ]
    },
    {
     "ename": "KeyError",
     "evalue": "'href'",
     "output_type": "error",
     "traceback": [
      "\u001b[1;31m---------------------------------------------------------------------------\u001b[0m",
      "\u001b[1;31mKeyError\u001b[0m                                  Traceback (most recent call last)",
      "Cell \u001b[1;32mIn[9], line 14\u001b[0m\n\u001b[0;32m     11\u001b[0m     counter \u001b[38;5;241m=\u001b[39m counter\u001b[38;5;241m+\u001b[39m\u001b[38;5;241m1\u001b[39m\n\u001b[0;32m     13\u001b[0m \u001b[38;5;28;01mfor\u001b[39;00m link \u001b[38;5;129;01min\u001b[39;00m filtered:\n\u001b[1;32m---> 14\u001b[0m     \u001b[38;5;28mprint\u001b[39m(\u001b[43mlink\u001b[49m\u001b[43m[\u001b[49m\u001b[38;5;124;43m\"\u001b[39;49m\u001b[38;5;124;43mhref\u001b[39;49m\u001b[38;5;124;43m\"\u001b[39;49m\u001b[43m]\u001b[49m)\n\u001b[0;32m     16\u001b[0m \u001b[38;5;28mprint\u001b[39m(filtered[\u001b[38;5;241m0\u001b[39m])\n\u001b[0;32m     18\u001b[0m \u001b[38;5;28mprint\u001b[39m(counter)\n",
      "File \u001b[1;32mc:\\Users\\User\\anaconda3\\Lib\\site-packages\\bs4\\element.py:1573\u001b[0m, in \u001b[0;36mTag.__getitem__\u001b[1;34m(self, key)\u001b[0m\n\u001b[0;32m   1570\u001b[0m \u001b[38;5;28;01mdef\u001b[39;00m \u001b[38;5;21m__getitem__\u001b[39m(\u001b[38;5;28mself\u001b[39m, key):\n\u001b[0;32m   1571\u001b[0m \u001b[38;5;250m    \u001b[39m\u001b[38;5;124;03m\"\"\"tag[key] returns the value of the 'key' attribute for the Tag,\u001b[39;00m\n\u001b[0;32m   1572\u001b[0m \u001b[38;5;124;03m    and throws an exception if it's not there.\"\"\"\u001b[39;00m\n\u001b[1;32m-> 1573\u001b[0m     \u001b[38;5;28;01mreturn\u001b[39;00m \u001b[38;5;28;43mself\u001b[39;49m\u001b[38;5;241;43m.\u001b[39;49m\u001b[43mattrs\u001b[49m\u001b[43m[\u001b[49m\u001b[43mkey\u001b[49m\u001b[43m]\u001b[49m\n",
      "\u001b[1;31mKeyError\u001b[0m: 'href'"
     ]
    }
   ],
   "source": [
    "r = requests.get('https://www.htlkrems.ac.at/')\n",
    "\n",
    "soup = BeautifulSoup(r.content, 'html.parser')\n",
    "\n",
    "filtered = soup.find_all('a')\n",
    "counter=0\n",
    "\n",
    "print(len(filtered))\n",
    "\n",
    "for link in filtered:\n",
    "    counter = counter+1\n",
    "\n",
    "for link in filtered:\n",
    "    print(link[\"href\"])\n",
    "   \n",
    "print(filtered[0])\n",
    "    \n",
    "print(counter)\n",
    "print(*filtered, sep='\\n')"
   ]
  },
  {
   "cell_type": "code",
   "execution_count": 10,
   "id": "d081fd180967cd2c",
   "metadata": {
    "collapsed": false,
    "is_executing": true
   },
   "outputs": [
    {
     "name": "stdout",
     "output_type": "stream",
     "text": [
      "<class 'str'>\n"
     ]
    }
   ],
   "source": [
    "test = soup.prettify()\n",
    "\n",
    "print(type(test))"
   ]
  },
  {
   "cell_type": "code",
   "execution_count": 11,
   "id": "8f034c7d17dc5d26",
   "metadata": {
    "collapsed": false,
    "is_executing": true
   },
   "outputs": [],
   "source": [
    "import re "
   ]
  },
  {
   "cell_type": "code",
   "execution_count": 12,
   "id": "e1962c8e31f2136c",
   "metadata": {
    "collapsed": false,
    "is_executing": true
   },
   "outputs": [
    {
     "name": "stdout",
     "output_type": "stream",
     "text": [
      "[' 0 ', ' 0 ', ' 0 ', ' 0 ', ' 0 ', ' 0 ', ' 0 ', ' 0 ', ' 0 ', ' 0 ', ' 0 ', ' 0 ', ' 0 ', ' 0 ', ' 0 ', ' 0 ', ' 0 ', ' 1 ', ' 0 ', ' 0 ', ' 0 ', ' 0 ', ' 0 ']\n"
     ]
    }
   ],
   "source": [
    "p = re.compile(\" [0-9] \")\n",
    "print(p.findall(test))"
   ]
  },
  {
   "cell_type": "code",
   "execution_count": 13,
   "id": "cad7affe4270877c",
   "metadata": {
    "collapsed": false,
    "is_executing": true
   },
   "outputs": [
    {
     "name": "stdout",
     "output_type": "stream",
     "text": [
      "<span class=\"text-white\">E-Mail:        </span><span class=\"subtitle\">office@htlkrems.at</span></p>\n"
     ]
    }
   ],
   "source": [
    "# Compile regular expression for matching emails\n",
    "email_pattern = re.compile(r'[a-zA-Z0-9._%+-]+@[a-zA-Z0-9.-]+\\.[a-zA-Z]{2,}', re.IGNORECASE)\n",
    "\n",
    "# Iterate over each line in the response text\n",
    "for line in r.text.splitlines():\n",
    "    if email_pattern.search(line):  # If a match for an email is found\n",
    "        print(line)\n",
    "        "
   ]
  }
 ],
 "metadata": {
  "kernelspec": {
   "display_name": "Python 3 (ipykernel)",
   "language": "python",
   "name": "python3"
  },
  "language_info": {
   "codemirror_mode": {
    "name": "ipython",
    "version": 3
   },
   "file_extension": ".py",
   "mimetype": "text/x-python",
   "name": "python",
   "nbconvert_exporter": "python",
   "pygments_lexer": "ipython3",
   "version": "3.11.4"
  }
 },
 "nbformat": 4,
 "nbformat_minor": 5
}
